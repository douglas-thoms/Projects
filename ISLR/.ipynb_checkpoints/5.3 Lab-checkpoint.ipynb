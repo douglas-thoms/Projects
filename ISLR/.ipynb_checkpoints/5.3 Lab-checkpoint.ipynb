{
 "cells": [
  {
   "cell_type": "code",
   "execution_count": 36,
   "metadata": {},
   "outputs": [],
   "source": [
    "library(ISLR)\n",
    "set.seed(1)\n",
    "train = sample(392,196)"
   ]
  },
  {
   "cell_type": "code",
   "execution_count": 37,
   "metadata": {},
   "outputs": [
    {
     "data": {
      "text/html": [
       "<style>\n",
       ".list-inline {list-style: none; margin:0; padding: 0}\n",
       ".list-inline>li {display: inline-block}\n",
       ".list-inline>li:not(:last-child)::after {content: \"\\00b7\"; padding: 0 .5ex}\n",
       "</style>\n",
       "<ol class=list-inline><li>324</li><li>167</li><li>129</li><li>299</li><li>270</li><li>187</li><li>307</li><li>85</li><li>277</li><li>362</li><li>330</li><li>263</li><li>329</li><li>79</li><li>213</li><li>37</li><li>105</li><li>217</li><li>366</li><li>165</li><li>290</li><li>383</li><li>89</li><li>289</li><li>340</li><li>326</li><li>382</li><li>42</li><li>111</li><li>20</li><li>44</li><li>343</li><li>70</li><li>121</li><li>40</li><li>172</li><li>25</li><li>248</li><li>198</li><li>39</li><li>298</li><li>280</li><li>160</li><li>14</li><li>130</li><li>45</li><li>22</li><li>206</li><li>230</li><li>193</li><li>104</li><li>367</li><li>255</li><li>341</li><li>342</li><li>103</li><li>331</li><li>13</li><li>296</li><li>375</li><li>176</li><li>279</li><li>110</li><li>84</li><li>29</li><li>141</li><li>252</li><li>221</li><li>108</li><li>304</li><li>33</li><li>347</li><li>149</li><li>287</li><li>102</li><li>145</li><li>118</li><li>323</li><li>107</li><li>64</li><li>224</li><li>337</li><li>51</li><li>325</li><li>372</li><li>138</li><li>390</li><li>389</li><li>282</li><li>143</li><li>285</li><li>170</li><li>48</li><li>204</li><li>295</li><li>24</li><li>181</li><li>214</li><li>225</li><li>163</li><li>43</li><li>1</li><li>328</li><li>78</li><li>284</li><li>116</li><li>233</li><li>61</li><li>86</li><li>374</li><li>49</li><li>242</li><li>246</li><li>247</li><li>239</li><li>219</li><li>135</li><li>364</li><li>363</li><li>310</li><li>53</li><li>348</li><li>65</li><li>376</li><li>124</li><li>77</li><li>218</li><li>98</li><li>194</li><li>19</li><li>31</li><li>174</li><li>237</li><li>75</li><li>16</li><li>358</li><li>9</li><li>50</li><li>92</li><li>122</li><li>152</li><li>386</li><li>207</li><li>244</li><li>229</li><li>350</li><li>355</li><li>391</li><li>223</li><li>373</li><li>309</li><li>140</li><li>126</li><li>349</li><li>344</li><li>319</li><li>258</li><li>15</li><li>271</li><li>388</li><li>195</li><li>201</li><li>318</li><li>17</li><li>212</li><li>127</li><li>133</li><li>41</li><li>384</li><li>392</li><li>159</li><li>117</li><li>72</li><li>36</li><li>315</li><li>294</li><li>157</li><li>378</li><li>313</li><li>306</li><li>272</li><li>106</li><li>185</li><li>88</li><li>281</li><li>228</li><li>238</li><li>368</li><li>80</li><li>30</li><li>93</li><li>234</li><li>220</li><li>240</li><li>369</li><li>164</li></ol>\n"
      ],
      "text/latex": [
       "\\begin{enumerate*}\n",
       "\\item 324\n",
       "\\item 167\n",
       "\\item 129\n",
       "\\item 299\n",
       "\\item 270\n",
       "\\item 187\n",
       "\\item 307\n",
       "\\item 85\n",
       "\\item 277\n",
       "\\item 362\n",
       "\\item 330\n",
       "\\item 263\n",
       "\\item 329\n",
       "\\item 79\n",
       "\\item 213\n",
       "\\item 37\n",
       "\\item 105\n",
       "\\item 217\n",
       "\\item 366\n",
       "\\item 165\n",
       "\\item 290\n",
       "\\item 383\n",
       "\\item 89\n",
       "\\item 289\n",
       "\\item 340\n",
       "\\item 326\n",
       "\\item 382\n",
       "\\item 42\n",
       "\\item 111\n",
       "\\item 20\n",
       "\\item 44\n",
       "\\item 343\n",
       "\\item 70\n",
       "\\item 121\n",
       "\\item 40\n",
       "\\item 172\n",
       "\\item 25\n",
       "\\item 248\n",
       "\\item 198\n",
       "\\item 39\n",
       "\\item 298\n",
       "\\item 280\n",
       "\\item 160\n",
       "\\item 14\n",
       "\\item 130\n",
       "\\item 45\n",
       "\\item 22\n",
       "\\item 206\n",
       "\\item 230\n",
       "\\item 193\n",
       "\\item 104\n",
       "\\item 367\n",
       "\\item 255\n",
       "\\item 341\n",
       "\\item 342\n",
       "\\item 103\n",
       "\\item 331\n",
       "\\item 13\n",
       "\\item 296\n",
       "\\item 375\n",
       "\\item 176\n",
       "\\item 279\n",
       "\\item 110\n",
       "\\item 84\n",
       "\\item 29\n",
       "\\item 141\n",
       "\\item 252\n",
       "\\item 221\n",
       "\\item 108\n",
       "\\item 304\n",
       "\\item 33\n",
       "\\item 347\n",
       "\\item 149\n",
       "\\item 287\n",
       "\\item 102\n",
       "\\item 145\n",
       "\\item 118\n",
       "\\item 323\n",
       "\\item 107\n",
       "\\item 64\n",
       "\\item 224\n",
       "\\item 337\n",
       "\\item 51\n",
       "\\item 325\n",
       "\\item 372\n",
       "\\item 138\n",
       "\\item 390\n",
       "\\item 389\n",
       "\\item 282\n",
       "\\item 143\n",
       "\\item 285\n",
       "\\item 170\n",
       "\\item 48\n",
       "\\item 204\n",
       "\\item 295\n",
       "\\item 24\n",
       "\\item 181\n",
       "\\item 214\n",
       "\\item 225\n",
       "\\item 163\n",
       "\\item 43\n",
       "\\item 1\n",
       "\\item 328\n",
       "\\item 78\n",
       "\\item 284\n",
       "\\item 116\n",
       "\\item 233\n",
       "\\item 61\n",
       "\\item 86\n",
       "\\item 374\n",
       "\\item 49\n",
       "\\item 242\n",
       "\\item 246\n",
       "\\item 247\n",
       "\\item 239\n",
       "\\item 219\n",
       "\\item 135\n",
       "\\item 364\n",
       "\\item 363\n",
       "\\item 310\n",
       "\\item 53\n",
       "\\item 348\n",
       "\\item 65\n",
       "\\item 376\n",
       "\\item 124\n",
       "\\item 77\n",
       "\\item 218\n",
       "\\item 98\n",
       "\\item 194\n",
       "\\item 19\n",
       "\\item 31\n",
       "\\item 174\n",
       "\\item 237\n",
       "\\item 75\n",
       "\\item 16\n",
       "\\item 358\n",
       "\\item 9\n",
       "\\item 50\n",
       "\\item 92\n",
       "\\item 122\n",
       "\\item 152\n",
       "\\item 386\n",
       "\\item 207\n",
       "\\item 244\n",
       "\\item 229\n",
       "\\item 350\n",
       "\\item 355\n",
       "\\item 391\n",
       "\\item 223\n",
       "\\item 373\n",
       "\\item 309\n",
       "\\item 140\n",
       "\\item 126\n",
       "\\item 349\n",
       "\\item 344\n",
       "\\item 319\n",
       "\\item 258\n",
       "\\item 15\n",
       "\\item 271\n",
       "\\item 388\n",
       "\\item 195\n",
       "\\item 201\n",
       "\\item 318\n",
       "\\item 17\n",
       "\\item 212\n",
       "\\item 127\n",
       "\\item 133\n",
       "\\item 41\n",
       "\\item 384\n",
       "\\item 392\n",
       "\\item 159\n",
       "\\item 117\n",
       "\\item 72\n",
       "\\item 36\n",
       "\\item 315\n",
       "\\item 294\n",
       "\\item 157\n",
       "\\item 378\n",
       "\\item 313\n",
       "\\item 306\n",
       "\\item 272\n",
       "\\item 106\n",
       "\\item 185\n",
       "\\item 88\n",
       "\\item 281\n",
       "\\item 228\n",
       "\\item 238\n",
       "\\item 368\n",
       "\\item 80\n",
       "\\item 30\n",
       "\\item 93\n",
       "\\item 234\n",
       "\\item 220\n",
       "\\item 240\n",
       "\\item 369\n",
       "\\item 164\n",
       "\\end{enumerate*}\n"
      ],
      "text/markdown": [
       "1. 324\n",
       "2. 167\n",
       "3. 129\n",
       "4. 299\n",
       "5. 270\n",
       "6. 187\n",
       "7. 307\n",
       "8. 85\n",
       "9. 277\n",
       "10. 362\n",
       "11. 330\n",
       "12. 263\n",
       "13. 329\n",
       "14. 79\n",
       "15. 213\n",
       "16. 37\n",
       "17. 105\n",
       "18. 217\n",
       "19. 366\n",
       "20. 165\n",
       "21. 290\n",
       "22. 383\n",
       "23. 89\n",
       "24. 289\n",
       "25. 340\n",
       "26. 326\n",
       "27. 382\n",
       "28. 42\n",
       "29. 111\n",
       "30. 20\n",
       "31. 44\n",
       "32. 343\n",
       "33. 70\n",
       "34. 121\n",
       "35. 40\n",
       "36. 172\n",
       "37. 25\n",
       "38. 248\n",
       "39. 198\n",
       "40. 39\n",
       "41. 298\n",
       "42. 280\n",
       "43. 160\n",
       "44. 14\n",
       "45. 130\n",
       "46. 45\n",
       "47. 22\n",
       "48. 206\n",
       "49. 230\n",
       "50. 193\n",
       "51. 104\n",
       "52. 367\n",
       "53. 255\n",
       "54. 341\n",
       "55. 342\n",
       "56. 103\n",
       "57. 331\n",
       "58. 13\n",
       "59. 296\n",
       "60. 375\n",
       "61. 176\n",
       "62. 279\n",
       "63. 110\n",
       "64. 84\n",
       "65. 29\n",
       "66. 141\n",
       "67. 252\n",
       "68. 221\n",
       "69. 108\n",
       "70. 304\n",
       "71. 33\n",
       "72. 347\n",
       "73. 149\n",
       "74. 287\n",
       "75. 102\n",
       "76. 145\n",
       "77. 118\n",
       "78. 323\n",
       "79. 107\n",
       "80. 64\n",
       "81. 224\n",
       "82. 337\n",
       "83. 51\n",
       "84. 325\n",
       "85. 372\n",
       "86. 138\n",
       "87. 390\n",
       "88. 389\n",
       "89. 282\n",
       "90. 143\n",
       "91. 285\n",
       "92. 170\n",
       "93. 48\n",
       "94. 204\n",
       "95. 295\n",
       "96. 24\n",
       "97. 181\n",
       "98. 214\n",
       "99. 225\n",
       "100. 163\n",
       "101. 43\n",
       "102. 1\n",
       "103. 328\n",
       "104. 78\n",
       "105. 284\n",
       "106. 116\n",
       "107. 233\n",
       "108. 61\n",
       "109. 86\n",
       "110. 374\n",
       "111. 49\n",
       "112. 242\n",
       "113. 246\n",
       "114. 247\n",
       "115. 239\n",
       "116. 219\n",
       "117. 135\n",
       "118. 364\n",
       "119. 363\n",
       "120. 310\n",
       "121. 53\n",
       "122. 348\n",
       "123. 65\n",
       "124. 376\n",
       "125. 124\n",
       "126. 77\n",
       "127. 218\n",
       "128. 98\n",
       "129. 194\n",
       "130. 19\n",
       "131. 31\n",
       "132. 174\n",
       "133. 237\n",
       "134. 75\n",
       "135. 16\n",
       "136. 358\n",
       "137. 9\n",
       "138. 50\n",
       "139. 92\n",
       "140. 122\n",
       "141. 152\n",
       "142. 386\n",
       "143. 207\n",
       "144. 244\n",
       "145. 229\n",
       "146. 350\n",
       "147. 355\n",
       "148. 391\n",
       "149. 223\n",
       "150. 373\n",
       "151. 309\n",
       "152. 140\n",
       "153. 126\n",
       "154. 349\n",
       "155. 344\n",
       "156. 319\n",
       "157. 258\n",
       "158. 15\n",
       "159. 271\n",
       "160. 388\n",
       "161. 195\n",
       "162. 201\n",
       "163. 318\n",
       "164. 17\n",
       "165. 212\n",
       "166. 127\n",
       "167. 133\n",
       "168. 41\n",
       "169. 384\n",
       "170. 392\n",
       "171. 159\n",
       "172. 117\n",
       "173. 72\n",
       "174. 36\n",
       "175. 315\n",
       "176. 294\n",
       "177. 157\n",
       "178. 378\n",
       "179. 313\n",
       "180. 306\n",
       "181. 272\n",
       "182. 106\n",
       "183. 185\n",
       "184. 88\n",
       "185. 281\n",
       "186. 228\n",
       "187. 238\n",
       "188. 368\n",
       "189. 80\n",
       "190. 30\n",
       "191. 93\n",
       "192. 234\n",
       "193. 220\n",
       "194. 240\n",
       "195. 369\n",
       "196. 164\n",
       "\n",
       "\n"
      ],
      "text/plain": [
       "  [1] 324 167 129 299 270 187 307  85 277 362 330 263 329  79 213  37 105 217\n",
       " [19] 366 165 290 383  89 289 340 326 382  42 111  20  44 343  70 121  40 172\n",
       " [37]  25 248 198  39 298 280 160  14 130  45  22 206 230 193 104 367 255 341\n",
       " [55] 342 103 331  13 296 375 176 279 110  84  29 141 252 221 108 304  33 347\n",
       " [73] 149 287 102 145 118 323 107  64 224 337  51 325 372 138 390 389 282 143\n",
       " [91] 285 170  48 204 295  24 181 214 225 163  43   1 328  78 284 116 233  61\n",
       "[109]  86 374  49 242 246 247 239 219 135 364 363 310  53 348  65 376 124  77\n",
       "[127] 218  98 194  19  31 174 237  75  16 358   9  50  92 122 152 386 207 244\n",
       "[145] 229 350 355 391 223 373 309 140 126 349 344 319 258  15 271 388 195 201\n",
       "[163] 318  17 212 127 133  41 384 392 159 117  72  36 315 294 157 378 313 306\n",
       "[181] 272 106 185  88 281 228 238 368  80  30  93 234 220 240 369 164"
      ]
     },
     "metadata": {},
     "output_type": "display_data"
    }
   ],
   "source": [
    "train"
   ]
  },
  {
   "cell_type": "code",
   "execution_count": 38,
   "metadata": {},
   "outputs": [],
   "source": [
    "lm.fit=lm(mpg~horsepower,data=Auto,subset=train)"
   ]
  },
  {
   "cell_type": "code",
   "execution_count": 39,
   "metadata": {},
   "outputs": [
    {
     "name": "stderr",
     "output_type": "stream",
     "text": [
      "The following objects are masked from Auto (pos = 4):\n",
      "\n",
      "    acceleration, cylinders, displacement, horsepower, mpg, name,\n",
      "    origin, weight, year\n",
      "\n",
      "\n"
     ]
    }
   ],
   "source": [
    "attach(Auto)"
   ]
  },
  {
   "cell_type": "code",
   "execution_count": 40,
   "metadata": {},
   "outputs": [
    {
     "data": {
      "text/html": [
       "23.2660086465003"
      ],
      "text/latex": [
       "23.2660086465003"
      ],
      "text/markdown": [
       "23.2660086465003"
      ],
      "text/plain": [
       "[1] 23.26601"
      ]
     },
     "metadata": {},
     "output_type": "display_data"
    }
   ],
   "source": [
    "mean((mpg-predict(lm.fit,Auto))[-train]^2)"
   ]
  },
  {
   "cell_type": "code",
   "execution_count": 41,
   "metadata": {},
   "outputs": [
    {
     "data": {
      "text/html": [
       "18.7164594933828"
      ],
      "text/latex": [
       "18.7164594933828"
      ],
      "text/markdown": [
       "18.7164594933828"
      ],
      "text/plain": [
       "[1] 18.71646"
      ]
     },
     "metadata": {},
     "output_type": "display_data"
    }
   ],
   "source": [
    "lm.fit2=lm(mpg~poly(horsepower,2),data=Auto,subset=train)\n",
    "mean((mpg-predict(lm.fit2,Auto))[-train]^2)\n"
   ]
  },
  {
   "cell_type": "code",
   "execution_count": 42,
   "metadata": {},
   "outputs": [
    {
     "data": {
      "text/html": [
       "18.7940067973945"
      ],
      "text/latex": [
       "18.7940067973945"
      ],
      "text/markdown": [
       "18.7940067973945"
      ],
      "text/plain": [
       "[1] 18.79401"
      ]
     },
     "metadata": {},
     "output_type": "display_data"
    }
   ],
   "source": [
    "lm.fit2=lm(mpg~poly(horsepower,3),data=Auto,subset=train)\n",
    "mean((mpg-predict(lm.fit2,Auto))[-train]^2)\n"
   ]
  },
  {
   "cell_type": "code",
   "execution_count": 43,
   "metadata": {},
   "outputs": [],
   "source": [
    "set.seed(2)"
   ]
  },
  {
   "cell_type": "code",
   "execution_count": 44,
   "metadata": {},
   "outputs": [],
   "source": [
    "train=sample(392,196)"
   ]
  },
  {
   "cell_type": "code",
   "execution_count": 45,
   "metadata": {},
   "outputs": [],
   "source": [
    "lm.fit=lm(mpg~horsepower, subset=train)"
   ]
  },
  {
   "cell_type": "code",
   "execution_count": 46,
   "metadata": {},
   "outputs": [
    {
     "data": {
      "text/html": [
       "25.7265106448139"
      ],
      "text/latex": [
       "25.7265106448139"
      ],
      "text/markdown": [
       "25.7265106448139"
      ],
      "text/plain": [
       "[1] 25.72651"
      ]
     },
     "metadata": {},
     "output_type": "display_data"
    }
   ],
   "source": [
    "mean((mpg-predict(lm.fit,Auto))[-train]^2)"
   ]
  },
  {
   "cell_type": "code",
   "execution_count": 47,
   "metadata": {},
   "outputs": [
    {
     "data": {
      "text/html": [
       "20.4303642741463"
      ],
      "text/latex": [
       "20.4303642741463"
      ],
      "text/markdown": [
       "20.4303642741463"
      ],
      "text/plain": [
       "[1] 20.43036"
      ]
     },
     "metadata": {},
     "output_type": "display_data"
    }
   ],
   "source": [
    "lm.fit2=lm(mpg~poly(horsepower,2),data=Auto,subset=train)\n",
    "mean((mpg-predict(lm.fit2,Auto))[-train]^2)"
   ]
  },
  {
   "cell_type": "code",
   "execution_count": 48,
   "metadata": {},
   "outputs": [
    {
     "data": {
      "text/html": [
       "20.3853268638776"
      ],
      "text/latex": [
       "20.3853268638776"
      ],
      "text/markdown": [
       "20.3853268638776"
      ],
      "text/plain": [
       "[1] 20.38533"
      ]
     },
     "metadata": {},
     "output_type": "display_data"
    }
   ],
   "source": [
    "lm.fit2=lm(mpg~poly(horsepower,3),data=Auto,subset=train)\n",
    "mean((mpg-predict(lm.fit2,Auto))[-train]^2)"
   ]
  },
  {
   "cell_type": "markdown",
   "metadata": {},
   "source": [
    "Leave On out Cross vaildation"
   ]
  },
  {
   "cell_type": "code",
   "execution_count": 49,
   "metadata": {},
   "outputs": [
    {
     "data": {
      "text/html": [
       "<style>\n",
       ".dl-inline {width: auto; margin:0; padding: 0}\n",
       ".dl-inline>dt, .dl-inline>dd {float: none; width: auto; display: inline-block}\n",
       ".dl-inline>dt::after {content: \":\\0020\"; padding-right: .5ex}\n",
       ".dl-inline>dt:not(:first-of-type) {padding-left: .5ex}\n",
       "</style><dl class=dl-inline><dt>(Intercept)</dt><dd>39.9358610211705</dd><dt>horsepower</dt><dd>-0.157844733353654</dd></dl>\n"
      ],
      "text/latex": [
       "\\begin{description*}\n",
       "\\item[(Intercept)] 39.9358610211705\n",
       "\\item[horsepower] -0.157844733353654\n",
       "\\end{description*}\n"
      ],
      "text/markdown": [
       "(Intercept)\n",
       ":   39.9358610211705horsepower\n",
       ":   -0.157844733353654\n",
       "\n"
      ],
      "text/plain": [
       "(Intercept)  horsepower \n",
       " 39.9358610  -0.1578447 "
      ]
     },
     "metadata": {},
     "output_type": "display_data"
    }
   ],
   "source": [
    "glm.fit=glm(mpg~horsepower,data=Auto)\n",
    "coef(glm.fit)"
   ]
  },
  {
   "cell_type": "code",
   "execution_count": 50,
   "metadata": {},
   "outputs": [
    {
     "data": {
      "text/html": [
       "<style>\n",
       ".dl-inline {width: auto; margin:0; padding: 0}\n",
       ".dl-inline>dt, .dl-inline>dd {float: none; width: auto; display: inline-block}\n",
       ".dl-inline>dt::after {content: \":\\0020\"; padding-right: .5ex}\n",
       ".dl-inline>dt:not(:first-of-type) {padding-left: .5ex}\n",
       "</style><dl class=dl-inline><dt>(Intercept)</dt><dd>39.9358610211705</dd><dt>horsepower</dt><dd>-0.157844733353654</dd></dl>\n"
      ],
      "text/latex": [
       "\\begin{description*}\n",
       "\\item[(Intercept)] 39.9358610211705\n",
       "\\item[horsepower] -0.157844733353654\n",
       "\\end{description*}\n"
      ],
      "text/markdown": [
       "(Intercept)\n",
       ":   39.9358610211705horsepower\n",
       ":   -0.157844733353654\n",
       "\n"
      ],
      "text/plain": [
       "(Intercept)  horsepower \n",
       " 39.9358610  -0.1578447 "
      ]
     },
     "metadata": {},
     "output_type": "display_data"
    }
   ],
   "source": [
    "lm.fit=glm(mpg~horsepower,data=Auto)\n",
    "coef(lm.fit)"
   ]
  },
  {
   "cell_type": "code",
   "execution_count": 51,
   "metadata": {},
   "outputs": [],
   "source": [
    "library(boot)"
   ]
  },
  {
   "cell_type": "code",
   "execution_count": 52,
   "metadata": {},
   "outputs": [
    {
     "data": {
      "text/html": [
       "<style>\n",
       ".list-inline {list-style: none; margin:0; padding: 0}\n",
       ".list-inline>li {display: inline-block}\n",
       ".list-inline>li:not(:last-child)::after {content: \"\\00b7\"; padding: 0 .5ex}\n",
       "</style>\n",
       "<ol class=list-inline><li>24.2315135179293</li><li>24.2311440937562</li></ol>\n"
      ],
      "text/latex": [
       "\\begin{enumerate*}\n",
       "\\item 24.2315135179293\n",
       "\\item 24.2311440937562\n",
       "\\end{enumerate*}\n"
      ],
      "text/markdown": [
       "1. 24.2315135179293\n",
       "2. 24.2311440937562\n",
       "\n",
       "\n"
      ],
      "text/plain": [
       "[1] 24.23151 24.23114"
      ]
     },
     "metadata": {},
     "output_type": "display_data"
    }
   ],
   "source": [
    "glm.fit=glm(mpg~horsepower,data=Auto)\n",
    "cv.err=cv.glm(Auto,glm.fit)\n",
    "cv.err$delta"
   ]
  },
  {
   "cell_type": "code",
   "execution_count": 53,
   "metadata": {},
   "outputs": [
    {
     "data": {
      "text/html": [
       "<style>\n",
       ".list-inline {list-style: none; margin:0; padding: 0}\n",
       ".list-inline>li {display: inline-block}\n",
       ".list-inline>li:not(:last-child)::after {content: \"\\00b7\"; padding: 0 .5ex}\n",
       "</style>\n",
       "<ol class=list-inline><li>24.2315135179292</li><li>19.2482131244897</li><li>19.3349840640291</li><li>19.4244303104303</li><li>19.0332138547041</li></ol>\n"
      ],
      "text/latex": [
       "\\begin{enumerate*}\n",
       "\\item 24.2315135179292\n",
       "\\item 19.2482131244897\n",
       "\\item 19.3349840640291\n",
       "\\item 19.4244303104303\n",
       "\\item 19.0332138547041\n",
       "\\end{enumerate*}\n"
      ],
      "text/markdown": [
       "1. 24.2315135179292\n",
       "2. 19.2482131244897\n",
       "3. 19.3349840640291\n",
       "4. 19.4244303104303\n",
       "5. 19.0332138547041\n",
       "\n",
       "\n"
      ],
      "text/plain": [
       "[1] 24.23151 19.24821 19.33498 19.42443 19.03321"
      ]
     },
     "metadata": {},
     "output_type": "display_data"
    }
   ],
   "source": [
    "cv.error=rep(0,5)\n",
    "\n",
    "for(i in 1:5){\n",
    "    \n",
    "    glm.fit=glm(mpg~poly(horsepower,i),data=Auto)\n",
    "    cv.error[i]=cv.glm(Auto,glm.fit)$delta[1]\n",
    "}\n",
    "\n",
    "cv.error"
   ]
  },
  {
   "cell_type": "markdown",
   "metadata": {},
   "source": [
    "K-Fold validation"
   ]
  },
  {
   "cell_type": "code",
   "execution_count": 54,
   "metadata": {},
   "outputs": [],
   "source": [
    "set.seed(17)"
   ]
  },
  {
   "cell_type": "code",
   "execution_count": 55,
   "metadata": {},
   "outputs": [],
   "source": [
    "cv.error.10=rep(0,10)"
   ]
  },
  {
   "cell_type": "code",
   "execution_count": 56,
   "metadata": {},
   "outputs": [
    {
     "data": {
      "text/html": [
       "<style>\n",
       ".list-inline {list-style: none; margin:0; padding: 0}\n",
       ".list-inline>li {display: inline-block}\n",
       ".list-inline>li:not(:last-child)::after {content: \"\\00b7\"; padding: 0 .5ex}\n",
       "</style>\n",
       "<ol class=list-inline><li>24.2720671232254</li><li>19.2690928085129</li><li>19.3480535605547</li><li>19.2949648229745</li><li>19.0319790002896</li><li>18.8978121056401</li><li>19.1206066690695</li><li>19.1466631054789</li><li>18.8701307442148</li><li>20.9552042280369</li></ol>\n"
      ],
      "text/latex": [
       "\\begin{enumerate*}\n",
       "\\item 24.2720671232254\n",
       "\\item 19.2690928085129\n",
       "\\item 19.3480535605547\n",
       "\\item 19.2949648229745\n",
       "\\item 19.0319790002896\n",
       "\\item 18.8978121056401\n",
       "\\item 19.1206066690695\n",
       "\\item 19.1466631054789\n",
       "\\item 18.8701307442148\n",
       "\\item 20.9552042280369\n",
       "\\end{enumerate*}\n"
      ],
      "text/markdown": [
       "1. 24.2720671232254\n",
       "2. 19.2690928085129\n",
       "3. 19.3480535605547\n",
       "4. 19.2949648229745\n",
       "5. 19.0319790002896\n",
       "6. 18.8978121056401\n",
       "7. 19.1206066690695\n",
       "8. 19.1466631054789\n",
       "9. 18.8701307442148\n",
       "10. 20.9552042280369\n",
       "\n",
       "\n"
      ],
      "text/plain": [
       " [1] 24.27207 19.26909 19.34805 19.29496 19.03198 18.89781 19.12061 19.14666\n",
       " [9] 18.87013 20.95520"
      ]
     },
     "metadata": {},
     "output_type": "display_data"
    }
   ],
   "source": [
    "cv.error.10= rep (0 ,10)\n",
    "for(i in 1:10){\n",
    "    glm.fit=glm(mpg~poly(horsepower,i),data=Auto)\n",
    "    cv.error.10[i]=cv.glm(Auto,glm.fit,K=10)$delta[1]\n",
    "}\n",
    "cv.error.10"
   ]
  },
  {
   "cell_type": "markdown",
   "metadata": {},
   "source": [
    "Bootstrap"
   ]
  },
  {
   "cell_type": "code",
   "execution_count": 57,
   "metadata": {},
   "outputs": [],
   "source": [
    "alpha.fn=function(data,index){\n",
    "    X=data$X[index]\n",
    "    Y=data$Y[index]\n",
    "    return((var(Y)-cov(X,Y))/(var(X)+var(Y)-2*cov(X,Y)))\n",
    "}"
   ]
  },
  {
   "cell_type": "code",
   "execution_count": 58,
   "metadata": {},
   "outputs": [
    {
     "data": {
      "text/html": [
       "0.57583207459283"
      ],
      "text/latex": [
       "0.57583207459283"
      ],
      "text/markdown": [
       "0.57583207459283"
      ],
      "text/plain": [
       "[1] 0.5758321"
      ]
     },
     "metadata": {},
     "output_type": "display_data"
    }
   ],
   "source": [
    "alpha.fn(Portfolio,1:100)"
   ]
  },
  {
   "cell_type": "code",
   "execution_count": 62,
   "metadata": {},
   "outputs": [
    {
     "data": {
      "text/html": [
       "0.553957687959929"
      ],
      "text/latex": [
       "0.553957687959929"
      ],
      "text/markdown": [
       "0.553957687959929"
      ],
      "text/plain": [
       "[1] 0.5539577"
      ]
     },
     "metadata": {},
     "output_type": "display_data"
    }
   ],
   "source": [
    "set.seed(2)\n",
    "alpha.fn(Portfolio,sample(100,100,replace=T))"
   ]
  },
  {
   "cell_type": "code",
   "execution_count": 63,
   "metadata": {},
   "outputs": [
    {
     "data": {
      "text/plain": [
       "\n",
       "ORDINARY NONPARAMETRIC BOOTSTRAP\n",
       "\n",
       "\n",
       "Call:\n",
       "boot(data = Portfolio, statistic = alpha.fn, R = 1000)\n",
       "\n",
       "\n",
       "Bootstrap Statistics :\n",
       "     original       bias    std. error\n",
       "t1* 0.5758321 0.0009480333  0.09303824"
      ]
     },
     "metadata": {},
     "output_type": "display_data"
    }
   ],
   "source": [
    "boot(Portfolio,alpha.fn,R=1000)"
   ]
  },
  {
   "cell_type": "code",
   "execution_count": 64,
   "metadata": {},
   "outputs": [
    {
     "data": {
      "text/html": [
       "<style>\n",
       ".dl-inline {width: auto; margin:0; padding: 0}\n",
       ".dl-inline>dt, .dl-inline>dd {float: none; width: auto; display: inline-block}\n",
       ".dl-inline>dt::after {content: \":\\0020\"; padding-right: .5ex}\n",
       ".dl-inline>dt:not(:first-of-type) {padding-left: .5ex}\n",
       "</style><dl class=dl-inline><dt>(Intercept)</dt><dd>39.9358610211705</dd><dt>horsepower</dt><dd>-0.157844733353654</dd></dl>\n"
      ],
      "text/latex": [
       "\\begin{description*}\n",
       "\\item[(Intercept)] 39.9358610211705\n",
       "\\item[horsepower] -0.157844733353654\n",
       "\\end{description*}\n"
      ],
      "text/markdown": [
       "(Intercept)\n",
       ":   39.9358610211705horsepower\n",
       ":   -0.157844733353654\n",
       "\n"
      ],
      "text/plain": [
       "(Intercept)  horsepower \n",
       " 39.9358610  -0.1578447 "
      ]
     },
     "metadata": {},
     "output_type": "display_data"
    }
   ],
   "source": [
    "boot.fn=function(data,index)\n",
    "    return(coef(lm(mpg~horsepower,data=data,subset=index)))\n",
    "\n",
    "boot.fn(Auto,1:392)"
   ]
  },
  {
   "cell_type": "code",
   "execution_count": 66,
   "metadata": {},
   "outputs": [
    {
     "data": {
      "text/html": [
       "<style>\n",
       ".dl-inline {width: auto; margin:0; padding: 0}\n",
       ".dl-inline>dt, .dl-inline>dd {float: none; width: auto; display: inline-block}\n",
       ".dl-inline>dt::after {content: \":\\0020\"; padding-right: .5ex}\n",
       ".dl-inline>dt:not(:first-of-type) {padding-left: .5ex}\n",
       "</style><dl class=dl-inline><dt>(Intercept)</dt><dd>40.3404516830189</dd><dt>horsepower</dt><dd>-0.163486837689938</dd></dl>\n"
      ],
      "text/latex": [
       "\\begin{description*}\n",
       "\\item[(Intercept)] 40.3404516830189\n",
       "\\item[horsepower] -0.163486837689938\n",
       "\\end{description*}\n"
      ],
      "text/markdown": [
       "(Intercept)\n",
       ":   40.3404516830189horsepower\n",
       ":   -0.163486837689938\n",
       "\n"
      ],
      "text/plain": [
       "(Intercept)  horsepower \n",
       " 40.3404517  -0.1634868 "
      ]
     },
     "metadata": {},
     "output_type": "display_data"
    }
   ],
   "source": [
    "set.seed (1)\n",
    "boot.fn(Auto ,sample (392 ,392 , replace =T))\n"
   ]
  },
  {
   "cell_type": "code",
   "execution_count": 69,
   "metadata": {},
   "outputs": [
    {
     "data": {
      "text/html": [
       "<style>\n",
       ".dl-inline {width: auto; margin:0; padding: 0}\n",
       ".dl-inline>dt, .dl-inline>dd {float: none; width: auto; display: inline-block}\n",
       ".dl-inline>dt::after {content: \":\\0020\"; padding-right: .5ex}\n",
       ".dl-inline>dt:not(:first-of-type) {padding-left: .5ex}\n",
       "</style><dl class=dl-inline><dt>(Intercept)</dt><dd>39.7271156991985</dd><dt>horsepower</dt><dd>-0.153826511921781</dd></dl>\n"
      ],
      "text/latex": [
       "\\begin{description*}\n",
       "\\item[(Intercept)] 39.7271156991985\n",
       "\\item[horsepower] -0.153826511921781\n",
       "\\end{description*}\n"
      ],
      "text/markdown": [
       "(Intercept)\n",
       ":   39.7271156991985horsepower\n",
       ":   -0.153826511921781\n",
       "\n"
      ],
      "text/plain": [
       "(Intercept)  horsepower \n",
       " 39.7271157  -0.1538265 "
      ]
     },
     "metadata": {},
     "output_type": "display_data"
    }
   ],
   "source": [
    "set.seed (2)\n",
    "boot.fn(Auto ,sample (392 ,392 , replace =T))"
   ]
  },
  {
   "cell_type": "code",
   "execution_count": null,
   "metadata": {},
   "outputs": [],
   "source": []
  }
 ],
 "metadata": {
  "kernelspec": {
   "display_name": "R",
   "language": "R",
   "name": "ir"
  },
  "language_info": {
   "codemirror_mode": "r",
   "file_extension": ".r",
   "mimetype": "text/x-r-source",
   "name": "R",
   "pygments_lexer": "r",
   "version": "3.6.1"
  }
 },
 "nbformat": 4,
 "nbformat_minor": 4
}
