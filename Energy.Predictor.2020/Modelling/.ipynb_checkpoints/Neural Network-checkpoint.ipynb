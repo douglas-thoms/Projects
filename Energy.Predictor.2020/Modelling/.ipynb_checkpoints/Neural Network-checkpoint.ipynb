{
 "cells": [
  {
   "cell_type": "code",
   "execution_count": 3,
   "metadata": {},
   "outputs": [],
   "source": [
    "import numpy as np\n",
    "import pandas as pd"
   ]
  },
  {
   "cell_type": "code",
   "execution_count": 7,
   "metadata": {},
   "outputs": [
    {
     "data": {
      "text/html": [
       "<div>\n",
       "<style scoped>\n",
       "    .dataframe tbody tr th:only-of-type {\n",
       "        vertical-align: middle;\n",
       "    }\n",
       "\n",
       "    .dataframe tbody tr th {\n",
       "        vertical-align: top;\n",
       "    }\n",
       "\n",
       "    .dataframe thead th {\n",
       "        text-align: right;\n",
       "    }\n",
       "</style>\n",
       "<table border=\"1\" class=\"dataframe\">\n",
       "  <thead>\n",
       "    <tr style=\"text-align: right;\">\n",
       "      <th></th>\n",
       "      <th>site_id</th>\n",
       "      <th>building_id</th>\n",
       "      <th>square_feet</th>\n",
       "      <th>timestamp</th>\n",
       "      <th>meter_reading</th>\n",
       "      <th>meter_reading_roll_avg</th>\n",
       "      <th>outlier_ratio</th>\n",
       "      <th>air_temperature</th>\n",
       "      <th>dew_temperature</th>\n",
       "      <th>sea_level_pressure</th>\n",
       "      <th>...</th>\n",
       "      <th>month_3</th>\n",
       "      <th>month_4</th>\n",
       "      <th>month_5</th>\n",
       "      <th>month_6</th>\n",
       "      <th>month_7</th>\n",
       "      <th>month_8</th>\n",
       "      <th>month_9</th>\n",
       "      <th>month_10</th>\n",
       "      <th>month_11</th>\n",
       "      <th>month_12</th>\n",
       "    </tr>\n",
       "  </thead>\n",
       "  <tbody>\n",
       "    <tr>\n",
       "      <th>0</th>\n",
       "      <td>0</td>\n",
       "      <td>7</td>\n",
       "      <td>121074</td>\n",
       "      <td>2016-02-29 09:00:00</td>\n",
       "      <td>1857.260</td>\n",
       "      <td>2219.768059</td>\n",
       "      <td>0.836691</td>\n",
       "      <td>12.8</td>\n",
       "      <td>8.9</td>\n",
       "      <td>1021.9</td>\n",
       "      <td>...</td>\n",
       "      <td>0</td>\n",
       "      <td>0</td>\n",
       "      <td>0</td>\n",
       "      <td>0</td>\n",
       "      <td>0</td>\n",
       "      <td>0</td>\n",
       "      <td>0</td>\n",
       "      <td>0</td>\n",
       "      <td>0</td>\n",
       "      <td>0</td>\n",
       "    </tr>\n",
       "    <tr>\n",
       "      <th>1</th>\n",
       "      <td>0</td>\n",
       "      <td>31</td>\n",
       "      <td>61904</td>\n",
       "      <td>2016-02-29 09:00:00</td>\n",
       "      <td>1097.470</td>\n",
       "      <td>1719.038059</td>\n",
       "      <td>0.638421</td>\n",
       "      <td>12.8</td>\n",
       "      <td>8.9</td>\n",
       "      <td>1021.9</td>\n",
       "      <td>...</td>\n",
       "      <td>0</td>\n",
       "      <td>0</td>\n",
       "      <td>0</td>\n",
       "      <td>0</td>\n",
       "      <td>0</td>\n",
       "      <td>0</td>\n",
       "      <td>0</td>\n",
       "      <td>0</td>\n",
       "      <td>0</td>\n",
       "      <td>0</td>\n",
       "    </tr>\n",
       "    <tr>\n",
       "      <th>2</th>\n",
       "      <td>0</td>\n",
       "      <td>55</td>\n",
       "      <td>16726</td>\n",
       "      <td>2016-02-29 09:00:00</td>\n",
       "      <td>337.683</td>\n",
       "      <td>510.662608</td>\n",
       "      <td>0.661264</td>\n",
       "      <td>12.8</td>\n",
       "      <td>8.9</td>\n",
       "      <td>1021.9</td>\n",
       "      <td>...</td>\n",
       "      <td>0</td>\n",
       "      <td>0</td>\n",
       "      <td>0</td>\n",
       "      <td>0</td>\n",
       "      <td>0</td>\n",
       "      <td>0</td>\n",
       "      <td>0</td>\n",
       "      <td>0</td>\n",
       "      <td>0</td>\n",
       "      <td>0</td>\n",
       "    </tr>\n",
       "    <tr>\n",
       "      <th>3</th>\n",
       "      <td>0</td>\n",
       "      <td>96</td>\n",
       "      <td>200933</td>\n",
       "      <td>2016-02-29 09:00:00</td>\n",
       "      <td>1266.310</td>\n",
       "      <td>2245.425882</td>\n",
       "      <td>0.563951</td>\n",
       "      <td>12.8</td>\n",
       "      <td>8.9</td>\n",
       "      <td>1021.9</td>\n",
       "      <td>...</td>\n",
       "      <td>0</td>\n",
       "      <td>0</td>\n",
       "      <td>0</td>\n",
       "      <td>0</td>\n",
       "      <td>0</td>\n",
       "      <td>0</td>\n",
       "      <td>0</td>\n",
       "      <td>0</td>\n",
       "      <td>0</td>\n",
       "      <td>0</td>\n",
       "    </tr>\n",
       "    <tr>\n",
       "      <th>4</th>\n",
       "      <td>0</td>\n",
       "      <td>103</td>\n",
       "      <td>21657</td>\n",
       "      <td>2016-02-29 09:00:00</td>\n",
       "      <td>337.683</td>\n",
       "      <td>349.270047</td>\n",
       "      <td>0.966825</td>\n",
       "      <td>12.8</td>\n",
       "      <td>8.9</td>\n",
       "      <td>1021.9</td>\n",
       "      <td>...</td>\n",
       "      <td>0</td>\n",
       "      <td>0</td>\n",
       "      <td>0</td>\n",
       "      <td>0</td>\n",
       "      <td>0</td>\n",
       "      <td>0</td>\n",
       "      <td>0</td>\n",
       "      <td>0</td>\n",
       "      <td>0</td>\n",
       "      <td>0</td>\n",
       "    </tr>\n",
       "  </tbody>\n",
       "</table>\n",
       "<p>5 rows × 69 columns</p>\n",
       "</div>"
      ],
      "text/plain": [
       "   site_id  building_id  square_feet            timestamp  meter_reading  \\\n",
       "0        0            7       121074  2016-02-29 09:00:00       1857.260   \n",
       "1        0           31        61904  2016-02-29 09:00:00       1097.470   \n",
       "2        0           55        16726  2016-02-29 09:00:00        337.683   \n",
       "3        0           96       200933  2016-02-29 09:00:00       1266.310   \n",
       "4        0          103        21657  2016-02-29 09:00:00        337.683   \n",
       "\n",
       "   meter_reading_roll_avg  outlier_ratio  air_temperature  dew_temperature  \\\n",
       "0             2219.768059       0.836691             12.8              8.9   \n",
       "1             1719.038059       0.638421             12.8              8.9   \n",
       "2              510.662608       0.661264             12.8              8.9   \n",
       "3             2245.425882       0.563951             12.8              8.9   \n",
       "4              349.270047       0.966825             12.8              8.9   \n",
       "\n",
       "   sea_level_pressure  ...  month_3  month_4  month_5  month_6  month_7  \\\n",
       "0              1021.9  ...        0        0        0        0        0   \n",
       "1              1021.9  ...        0        0        0        0        0   \n",
       "2              1021.9  ...        0        0        0        0        0   \n",
       "3              1021.9  ...        0        0        0        0        0   \n",
       "4              1021.9  ...        0        0        0        0        0   \n",
       "\n",
       "   month_8  month_9  month_10  month_11  month_12  \n",
       "0        0        0         0         0         0  \n",
       "1        0        0         0         0         0  \n",
       "2        0        0         0         0         0  \n",
       "3        0        0         0         0         0  \n",
       "4        0        0         0         0         0  \n",
       "\n",
       "[5 rows x 69 columns]"
      ]
     },
     "execution_count": 7,
     "metadata": {},
     "output_type": "execute_result"
    }
   ],
   "source": [
    "#add file for neutral network\n",
    "df = pd.read_csv('../data/df_dummy_samp.csv')\n",
    "df.head()"
   ]
  },
  {
   "cell_type": "code",
   "execution_count": null,
   "metadata": {},
   "outputs": [],
   "source": [
    "#alredy hote encoded"
   ]
  },
  {
   "cell_type": "code",
   "execution_count": 10,
   "metadata": {},
   "outputs": [
    {
     "name": "stdout",
     "output_type": "stream",
     "text": [
      "<class 'pandas.core.frame.DataFrame'>\n",
      "RangeIndex: 4244884 entries, 0 to 4244883\n",
      "Data columns (total 69 columns):\n",
      " #   Column                                     Dtype  \n",
      "---  ------                                     -----  \n",
      " 0   site_id                                    int64  \n",
      " 1   building_id                                int64  \n",
      " 2   square_feet                                int64  \n",
      " 3   timestamp                                  object \n",
      " 4   meter_reading                              float64\n",
      " 5   meter_reading_roll_avg                     float64\n",
      " 6   outlier_ratio                              float64\n",
      " 7   air_temperature                            float64\n",
      " 8   dew_temperature                            float64\n",
      " 9   sea_level_pressure                         float64\n",
      " 10  wind_speed                                 float64\n",
      " 11  HDD                                        float64\n",
      " 12  CDD                                        float64\n",
      " 13  meter_electricity                          int64  \n",
      " 14  meter_hotwater                             int64  \n",
      " 15  meter_steam                                int64  \n",
      " 16  wind_compass_North                         int64  \n",
      " 17  wind_compass_Northeast                     int64  \n",
      " 18  wind_compass_Northwest                     int64  \n",
      " 19  wind_compass_South                         int64  \n",
      " 20  wind_compass_Southeast                     int64  \n",
      " 21  wind_compass_Southwest                     int64  \n",
      " 22  wind_compass_West                          int64  \n",
      " 23  primary_use_Entertainment/public assembly  int64  \n",
      " 24  primary_use_Healthcare                     int64  \n",
      " 25  primary_use_Lodging/residential            int64  \n",
      " 26  primary_use_Office                         int64  \n",
      " 27  primary_use_Other                          int64  \n",
      " 28  primary_use_Public services                int64  \n",
      " 29  hour_1                                     int64  \n",
      " 30  hour_2                                     int64  \n",
      " 31  hour_3                                     int64  \n",
      " 32  hour_4                                     int64  \n",
      " 33  hour_5                                     int64  \n",
      " 34  hour_6                                     int64  \n",
      " 35  hour_7                                     int64  \n",
      " 36  hour_8                                     int64  \n",
      " 37  hour_9                                     int64  \n",
      " 38  hour_10                                    int64  \n",
      " 39  hour_11                                    int64  \n",
      " 40  hour_12                                    int64  \n",
      " 41  hour_13                                    int64  \n",
      " 42  hour_14                                    int64  \n",
      " 43  hour_15                                    int64  \n",
      " 44  hour_16                                    int64  \n",
      " 45  hour_17                                    int64  \n",
      " 46  hour_18                                    int64  \n",
      " 47  hour_19                                    int64  \n",
      " 48  hour_20                                    int64  \n",
      " 49  hour_21                                    int64  \n",
      " 50  hour_22                                    int64  \n",
      " 51  hour_23                                    int64  \n",
      " 52  weekday_1                                  int64  \n",
      " 53  weekday_2                                  int64  \n",
      " 54  weekday_3                                  int64  \n",
      " 55  weekday_4                                  int64  \n",
      " 56  weekday_5                                  int64  \n",
      " 57  weekday_6                                  int64  \n",
      " 58  month_2                                    int64  \n",
      " 59  month_3                                    int64  \n",
      " 60  month_4                                    int64  \n",
      " 61  month_5                                    int64  \n",
      " 62  month_6                                    int64  \n",
      " 63  month_7                                    int64  \n",
      " 64  month_8                                    int64  \n",
      " 65  month_9                                    int64  \n",
      " 66  month_10                                   int64  \n",
      " 67  month_11                                   int64  \n",
      " 68  month_12                                   int64  \n",
      "dtypes: float64(9), int64(59), object(1)\n",
      "memory usage: 2.2+ GB\n"
     ]
    }
   ],
   "source": [
    "df.info()"
   ]
  },
  {
   "cell_type": "markdown",
   "metadata": {},
   "source": [
    "# TRAIN TEST SPLIT"
   ]
  },
  {
   "cell_type": "code",
   "execution_count": 11,
   "metadata": {},
   "outputs": [],
   "source": [
    "from sklearn.model_selection import train_test_split"
   ]
  },
  {
   "cell_type": "code",
   "execution_count": 20,
   "metadata": {},
   "outputs": [
    {
     "data": {
      "text/plain": [
       "array([[1.21074000e+05, 2.21976806e+03, 8.36691019e-01, ...,\n",
       "        0.00000000e+00, 0.00000000e+00, 0.00000000e+00],\n",
       "       [6.19040000e+04, 1.71903806e+03, 6.38421002e-01, ...,\n",
       "        0.00000000e+00, 0.00000000e+00, 0.00000000e+00],\n",
       "       [1.67260000e+04, 5.10662608e+02, 6.61264394e-01, ...,\n",
       "        0.00000000e+00, 0.00000000e+00, 0.00000000e+00],\n",
       "       ...,\n",
       "       [1.71040000e+04, 1.76912317e+01, 1.04295734e+00, ...,\n",
       "        0.00000000e+00, 0.00000000e+00, 1.00000000e+00],\n",
       "       [9.36080000e+04, 2.45025248e+00, 1.01699724e+00, ...,\n",
       "        0.00000000e+00, 0.00000000e+00, 1.00000000e+00],\n",
       "       [6.59990000e+04, 2.81517327e+00, 7.97286627e-01, ...,\n",
       "        0.00000000e+00, 0.00000000e+00, 1.00000000e+00]])"
      ]
     },
     "execution_count": 20,
     "metadata": {},
     "output_type": "execute_result"
    }
   ],
   "source": [
    "X = df.drop(['meter_reading','timestamp','site_id','building_id'],axis=1).values\n",
    "X"
   ]
  },
  {
   "cell_type": "code",
   "execution_count": 21,
   "metadata": {},
   "outputs": [
    {
     "data": {
      "text/plain": [
       "array([1857.26  , 1097.47  ,  337.683 , ...,   18.4512,    2.4919,\n",
       "          2.2445])"
      ]
     },
     "execution_count": 21,
     "metadata": {},
     "output_type": "execute_result"
    }
   ],
   "source": [
    "y = df['meter_reading'].values\n",
    "y"
   ]
  },
  {
   "cell_type": "code",
   "execution_count": 22,
   "metadata": {},
   "outputs": [],
   "source": [
    "X_train, X_test, y_train, y_test = train_test_split(X, y, test_size=0.33, random_state=42)"
   ]
  },
  {
   "cell_type": "markdown",
   "metadata": {},
   "source": [
    "# Normalizing Data"
   ]
  },
  {
   "cell_type": "markdown",
   "metadata": {},
   "source": [
    "https://machinelearningmastery.com/regression-tutorial-keras-deep-learning-library-python/"
   ]
  },
  {
   "cell_type": "code",
   "execution_count": 23,
   "metadata": {},
   "outputs": [],
   "source": [
    "from sklearn.preprocessing import MinMaxScaler"
   ]
  },
  {
   "cell_type": "code",
   "execution_count": 24,
   "metadata": {},
   "outputs": [],
   "source": [
    "scaler = MinMaxScaler()"
   ]
  },
  {
   "cell_type": "code",
   "execution_count": 25,
   "metadata": {},
   "outputs": [],
   "source": [
    "X_train = scaler.fit_transform(X_train)"
   ]
  },
  {
   "cell_type": "code",
   "execution_count": 26,
   "metadata": {},
   "outputs": [],
   "source": [
    "X_test = scaler.fit_transform(X_test)"
   ]
  },
  {
   "cell_type": "code",
   "execution_count": 27,
   "metadata": {},
   "outputs": [],
   "source": [
    "import tensorflow as tf\n",
    "from tensorflow.keras.models import Sequential\n",
    "from tensorflow.keras.layers import Dense, Activation, Dropout\n",
    "from tensorflow.keras.constraints import max_norm"
   ]
  },
  {
   "cell_type": "code",
   "execution_count": 28,
   "metadata": {},
   "outputs": [],
   "source": [
    "model = Sequential()\n",
    "\n",
    "model.add(Dense(64, activation='relu'))\n",
    "model.add(Dropout(0.2))\n",
    "\n",
    "model.add(Dense(32, activation='relu'))\n",
    "model.add(Dropout(0.2))\n",
    "\n",
    "model.add(Dense(16, activation='relu'))\n",
    "model.add(Dropout(0.2))\n",
    "\n",
    "model.add(Dense(8, activation='relu'))\n",
    "model.add(Dropout(0.2))\n",
    "\n",
    "model.add(Dense(units=1,activation='linear'))\n",
    "\n",
    "model.compile(loss='mean_squared_error', optimizer='adam')"
   ]
  },
  {
   "cell_type": "code",
   "execution_count": 29,
   "metadata": {},
   "outputs": [
    {
     "name": "stdout",
     "output_type": "stream",
     "text": [
      "Train on 2844072 samples, validate on 1400812 samples\n",
      "Epoch 1/25\n",
      "2844072/2844072 [==============================] - 77s 27us/sample - loss: 159223.1615 - val_loss: 26077.4381\n",
      "Epoch 2/25\n",
      "2844072/2844072 [==============================] - 70s 25us/sample - loss: 90099.2259 - val_loss: 23750.4471\n",
      "Epoch 3/25\n",
      "2844072/2844072 [==============================] - 71s 25us/sample - loss: 85663.9762 - val_loss: 14676.9885\n",
      "Epoch 4/25\n",
      "2844072/2844072 [==============================] - 72s 25us/sample - loss: 82604.0988 - val_loss: 17896.1581\n",
      "Epoch 5/25\n",
      "2844072/2844072 [==============================] - 72s 25us/sample - loss: 81056.7754 - val_loss: 13197.1711\n",
      "Epoch 6/25\n",
      "2844072/2844072 [==============================] - 72s 25us/sample - loss: 80220.5262 - val_loss: 10900.5307\n",
      "Epoch 7/25\n",
      "2844072/2844072 [==============================] - 73s 26us/sample - loss: 79140.3812 - val_loss: 12963.1596\n",
      "Epoch 8/25\n",
      "2844072/2844072 [==============================] - 72s 25us/sample - loss: 77911.9288 - val_loss: 18144.2532\n",
      "Epoch 9/25\n",
      "2844072/2844072 [==============================] - 72s 25us/sample - loss: 78441.8028 - val_loss: 13483.4731\n",
      "Epoch 10/25\n",
      "2844072/2844072 [==============================] - 72s 25us/sample - loss: 78680.9806 - val_loss: 12617.6073\n",
      "Epoch 11/25\n",
      "2844072/2844072 [==============================] - 71s 25us/sample - loss: 77098.5860 - val_loss: 14115.6983\n",
      "Epoch 12/25\n",
      "2844072/2844072 [==============================] - 70s 25us/sample - loss: 76974.8394 - val_loss: 13724.5704\n",
      "Epoch 13/25\n",
      "2844072/2844072 [==============================] - 74s 26us/sample - loss: 76561.3923 - val_loss: 17767.6474\n",
      "Epoch 14/25\n",
      "2844072/2844072 [==============================] - 73s 26us/sample - loss: 76156.0833 - val_loss: 11232.0752\n",
      "Epoch 15/25\n",
      "2844072/2844072 [==============================] - 72s 25us/sample - loss: 76071.7134 - val_loss: 16434.7909\n",
      "Epoch 16/25\n",
      "2844072/2844072 [==============================] - 72s 25us/sample - loss: 76067.6434 - val_loss: 11340.6724\n",
      "Epoch 17/25\n",
      "2844072/2844072 [==============================] - 71s 25us/sample - loss: 74393.0321 - val_loss: 10511.2818\n",
      "Epoch 18/25\n",
      "2844072/2844072 [==============================] - 72s 25us/sample - loss: 75247.2918 - val_loss: 11585.9520\n",
      "Epoch 19/25\n",
      "2844072/2844072 [==============================] - 71s 25us/sample - loss: 75568.8009 - val_loss: 16764.4348\n",
      "Epoch 20/25\n",
      "2844072/2844072 [==============================] - 72s 25us/sample - loss: 74721.5869 - val_loss: 18754.8668\n",
      "Epoch 21/25\n",
      "2844072/2844072 [==============================] - 74s 26us/sample - loss: 75248.6832 - val_loss: 11817.9785\n",
      "Epoch 22/25\n",
      "2844072/2844072 [==============================] - 72s 25us/sample - loss: 75378.2002 - val_loss: 11164.6537\n",
      "Epoch 23/25\n",
      "2844072/2844072 [==============================] - 71s 25us/sample - loss: 74576.1680 - val_loss: 15148.2537\n",
      "Epoch 24/25\n",
      "2844072/2844072 [==============================] - 73s 26us/sample - loss: 74888.2891 - val_loss: 17219.2380\n",
      "Epoch 25/25\n",
      "2844072/2844072 [==============================] - 70s 25us/sample - loss: 75486.8094 - val_loss: 11045.2181\n"
     ]
    },
    {
     "data": {
      "text/plain": [
       "<tensorflow.python.keras.callbacks.History at 0x1e3a27f4f08>"
      ]
     },
     "execution_count": 29,
     "metadata": {},
     "output_type": "execute_result"
    }
   ],
   "source": [
    "model.fit(x=X_train, y=y_train, epochs=25,batch_size=256, validation_data=(X_test,y_test),)"
   ]
  },
  {
   "cell_type": "code",
   "execution_count": 31,
   "metadata": {},
   "outputs": [
    {
     "data": {
      "text/html": [
       "<div>\n",
       "<style scoped>\n",
       "    .dataframe tbody tr th:only-of-type {\n",
       "        vertical-align: middle;\n",
       "    }\n",
       "\n",
       "    .dataframe tbody tr th {\n",
       "        vertical-align: top;\n",
       "    }\n",
       "\n",
       "    .dataframe thead th {\n",
       "        text-align: right;\n",
       "    }\n",
       "</style>\n",
       "<table border=\"1\" class=\"dataframe\">\n",
       "  <thead>\n",
       "    <tr style=\"text-align: right;\">\n",
       "      <th></th>\n",
       "      <th>loss</th>\n",
       "      <th>val_loss</th>\n",
       "    </tr>\n",
       "  </thead>\n",
       "  <tbody>\n",
       "    <tr>\n",
       "      <th>0</th>\n",
       "      <td>159223.161482</td>\n",
       "      <td>26077.438068</td>\n",
       "    </tr>\n",
       "    <tr>\n",
       "      <th>1</th>\n",
       "      <td>90099.225884</td>\n",
       "      <td>23750.447095</td>\n",
       "    </tr>\n",
       "    <tr>\n",
       "      <th>2</th>\n",
       "      <td>85663.976195</td>\n",
       "      <td>14676.988530</td>\n",
       "    </tr>\n",
       "    <tr>\n",
       "      <th>3</th>\n",
       "      <td>82604.098786</td>\n",
       "      <td>17896.158060</td>\n",
       "    </tr>\n",
       "    <tr>\n",
       "      <th>4</th>\n",
       "      <td>81056.775435</td>\n",
       "      <td>13197.171081</td>\n",
       "    </tr>\n",
       "    <tr>\n",
       "      <th>5</th>\n",
       "      <td>80220.526206</td>\n",
       "      <td>10900.530729</td>\n",
       "    </tr>\n",
       "    <tr>\n",
       "      <th>6</th>\n",
       "      <td>79140.381193</td>\n",
       "      <td>12963.159609</td>\n",
       "    </tr>\n",
       "    <tr>\n",
       "      <th>7</th>\n",
       "      <td>77911.928765</td>\n",
       "      <td>18144.253187</td>\n",
       "    </tr>\n",
       "    <tr>\n",
       "      <th>8</th>\n",
       "      <td>78441.802790</td>\n",
       "      <td>13483.473109</td>\n",
       "    </tr>\n",
       "    <tr>\n",
       "      <th>9</th>\n",
       "      <td>78680.980592</td>\n",
       "      <td>12617.607267</td>\n",
       "    </tr>\n",
       "    <tr>\n",
       "      <th>10</th>\n",
       "      <td>77098.585954</td>\n",
       "      <td>14115.698299</td>\n",
       "    </tr>\n",
       "    <tr>\n",
       "      <th>11</th>\n",
       "      <td>76974.839358</td>\n",
       "      <td>13724.570419</td>\n",
       "    </tr>\n",
       "    <tr>\n",
       "      <th>12</th>\n",
       "      <td>76561.392342</td>\n",
       "      <td>17767.647448</td>\n",
       "    </tr>\n",
       "    <tr>\n",
       "      <th>13</th>\n",
       "      <td>76156.083261</td>\n",
       "      <td>11232.075178</td>\n",
       "    </tr>\n",
       "    <tr>\n",
       "      <th>14</th>\n",
       "      <td>76071.713369</td>\n",
       "      <td>16434.790861</td>\n",
       "    </tr>\n",
       "    <tr>\n",
       "      <th>15</th>\n",
       "      <td>76067.643353</td>\n",
       "      <td>11340.672353</td>\n",
       "    </tr>\n",
       "    <tr>\n",
       "      <th>16</th>\n",
       "      <td>74393.032119</td>\n",
       "      <td>10511.281770</td>\n",
       "    </tr>\n",
       "    <tr>\n",
       "      <th>17</th>\n",
       "      <td>75247.291843</td>\n",
       "      <td>11585.951957</td>\n",
       "    </tr>\n",
       "    <tr>\n",
       "      <th>18</th>\n",
       "      <td>75568.800942</td>\n",
       "      <td>16764.434842</td>\n",
       "    </tr>\n",
       "    <tr>\n",
       "      <th>19</th>\n",
       "      <td>74721.586876</td>\n",
       "      <td>18754.866817</td>\n",
       "    </tr>\n",
       "    <tr>\n",
       "      <th>20</th>\n",
       "      <td>75248.683238</td>\n",
       "      <td>11817.978474</td>\n",
       "    </tr>\n",
       "    <tr>\n",
       "      <th>21</th>\n",
       "      <td>75378.200189</td>\n",
       "      <td>11164.653733</td>\n",
       "    </tr>\n",
       "    <tr>\n",
       "      <th>22</th>\n",
       "      <td>74576.168007</td>\n",
       "      <td>15148.253724</td>\n",
       "    </tr>\n",
       "    <tr>\n",
       "      <th>23</th>\n",
       "      <td>74888.289104</td>\n",
       "      <td>17219.237951</td>\n",
       "    </tr>\n",
       "    <tr>\n",
       "      <th>24</th>\n",
       "      <td>75486.809402</td>\n",
       "      <td>11045.218124</td>\n",
       "    </tr>\n",
       "  </tbody>\n",
       "</table>\n",
       "</div>"
      ],
      "text/plain": [
       "             loss      val_loss\n",
       "0   159223.161482  26077.438068\n",
       "1    90099.225884  23750.447095\n",
       "2    85663.976195  14676.988530\n",
       "3    82604.098786  17896.158060\n",
       "4    81056.775435  13197.171081\n",
       "5    80220.526206  10900.530729\n",
       "6    79140.381193  12963.159609\n",
       "7    77911.928765  18144.253187\n",
       "8    78441.802790  13483.473109\n",
       "9    78680.980592  12617.607267\n",
       "10   77098.585954  14115.698299\n",
       "11   76974.839358  13724.570419\n",
       "12   76561.392342  17767.647448\n",
       "13   76156.083261  11232.075178\n",
       "14   76071.713369  16434.790861\n",
       "15   76067.643353  11340.672353\n",
       "16   74393.032119  10511.281770\n",
       "17   75247.291843  11585.951957\n",
       "18   75568.800942  16764.434842\n",
       "19   74721.586876  18754.866817\n",
       "20   75248.683238  11817.978474\n",
       "21   75378.200189  11164.653733\n",
       "22   74576.168007  15148.253724\n",
       "23   74888.289104  17219.237951\n",
       "24   75486.809402  11045.218124"
      ]
     },
     "execution_count": 31,
     "metadata": {},
     "output_type": "execute_result"
    }
   ],
   "source": [
    "loss = pd.DataFrame(model.history.history)\n",
    "loss"
   ]
  },
  {
   "cell_type": "code",
   "execution_count": 32,
   "metadata": {},
   "outputs": [
    {
     "data": {
      "text/plain": [
       "<matplotlib.axes._subplots.AxesSubplot at 0x1e3ffc96c48>"
      ]
     },
     "execution_count": 32,
     "metadata": {},
     "output_type": "execute_result"
    },
    {
     "data": {
      "image/png": "[encoded data removed]",
      "text/plain": [
       "<Figure size 432x288 with 1 Axes>"
      ]
     },
     "metadata": {
      "needs_background": "light"
     },
     "output_type": "display_data"
    }
   ],
   "source": [
    "loss[['loss','val_loss']].plot()"
   ]
  },
  {
   "cell_type": "code",
   "execution_count": 33,
   "metadata": {},
   "outputs": [],
   "source": [
    "from sklearn.metrics import explained_variance_score\n",
    "from sklearn.metrics import mean_absolute_error\n",
    "from sklearn.metrics import r2_score\n",
    "from sklearn.metrics import mean_squared_error"
   ]
  },
  {
   "cell_type": "code",
   "execution_count": 38,
   "metadata": {},
   "outputs": [
    {
     "data": {
      "text/plain": [
       "array([[309.8105 ],\n",
       "       [254.71342],\n",
       "       [ 87.2172 ],\n",
       "       ...,\n",
       "       [460.93878],\n",
       "       [ 80.56393],\n",
       "       [376.18713]], dtype=float32)"
      ]
     },
     "execution_count": 38,
     "metadata": {},
     "output_type": "execute_result"
    }
   ],
   "source": [
    "y_pred=model.predict(X_test)\n",
    "y_pred"
   ]
  },
  {
   "cell_type": "code",
   "execution_count": 35,
   "metadata": {},
   "outputs": [
    {
     "ename": "TypeError",
     "evalue": "type numpy.ndarray doesn't define __round__ method",
     "output_type": "error",
     "traceback": [
      "\u001b[1;31m---------------------------------------------------------------------------\u001b[0m",
      "\u001b[1;31mTypeError\u001b[0m                                 Traceback (most recent call last)",
      "\u001b[1;32m<ipython-input-35-16a8b3fa20e2>\u001b[0m in \u001b[0;36m<module>\u001b[1;34m\u001b[0m\n\u001b[1;32m----> 1\u001b[1;33m \u001b[0mpredictions\u001b[0m \u001b[1;33m=\u001b[0m \u001b[1;33m[\u001b[0m\u001b[0mround\u001b[0m\u001b[1;33m(\u001b[0m\u001b[0mvalue\u001b[0m\u001b[1;33m)\u001b[0m \u001b[1;32mfor\u001b[0m \u001b[0mvalue\u001b[0m \u001b[1;32min\u001b[0m \u001b[0my_pred\u001b[0m\u001b[1;33m]\u001b[0m\u001b[1;33m\u001b[0m\u001b[1;33m\u001b[0m\u001b[0m\n\u001b[0m\u001b[0;32m      2\u001b[0m \u001b[0mpredictions\u001b[0m\u001b[1;33m\u001b[0m\u001b[1;33m\u001b[0m\u001b[0m\n",
      "\u001b[1;32m<ipython-input-35-16a8b3fa20e2>\u001b[0m in \u001b[0;36m<listcomp>\u001b[1;34m(.0)\u001b[0m\n\u001b[1;32m----> 1\u001b[1;33m \u001b[0mpredictions\u001b[0m \u001b[1;33m=\u001b[0m \u001b[1;33m[\u001b[0m\u001b[0mround\u001b[0m\u001b[1;33m(\u001b[0m\u001b[0mvalue\u001b[0m\u001b[1;33m)\u001b[0m \u001b[1;32mfor\u001b[0m \u001b[0mvalue\u001b[0m \u001b[1;32min\u001b[0m \u001b[0my_pred\u001b[0m\u001b[1;33m]\u001b[0m\u001b[1;33m\u001b[0m\u001b[1;33m\u001b[0m\u001b[0m\n\u001b[0m\u001b[0;32m      2\u001b[0m \u001b[0mpredictions\u001b[0m\u001b[1;33m\u001b[0m\u001b[1;33m\u001b[0m\u001b[0m\n",
      "\u001b[1;31mTypeError\u001b[0m: type numpy.ndarray doesn't define __round__ method"
     ]
    }
   ],
   "source": [
    "predictions = [round(value) for value in y_pred]\n",
    "predictions"
   ]
  },
  {
   "cell_type": "code",
   "execution_count": 39,
   "metadata": {},
   "outputs": [
    {
     "data": {
      "text/plain": [
       "0.9880984395342628"
      ]
     },
     "execution_count": 39,
     "metadata": {},
     "output_type": "execute_result"
    }
   ],
   "source": [
    "explained_variance_score(y_test,y_pred)"
   ]
  },
  {
   "cell_type": "code",
   "execution_count": 40,
   "metadata": {},
   "outputs": [
    {
     "data": {
      "text/plain": [
       "58.95297895346036"
      ]
     },
     "execution_count": 40,
     "metadata": {},
     "output_type": "execute_result"
    }
   ],
   "source": [
    "mean_absolute_error(y_test,y_pred)"
   ]
  },
  {
   "cell_type": "code",
   "execution_count": 41,
   "metadata": {},
   "outputs": [
    {
     "data": {
      "text/plain": [
       "0.9880978302224354"
      ]
     },
     "execution_count": 41,
     "metadata": {},
     "output_type": "execute_result"
    }
   ],
   "source": [
    "r2_score(y_test,y_pred)"
   ]
  },
  {
   "cell_type": "code",
   "execution_count": 42,
   "metadata": {},
   "outputs": [
    {
     "data": {
      "text/plain": [
       "105.09623282257824"
      ]
     },
     "execution_count": 42,
     "metadata": {},
     "output_type": "execute_result"
    }
   ],
   "source": [
    "mean_squared_error(y_test,y_pred,squared=False)"
   ]
  },
  {
   "cell_type": "code",
   "execution_count": null,
   "metadata": {},
   "outputs": [],
   "source": []
  }
 ],
 "metadata": {
  "kernelspec": {
   "display_name": "Python 3",
   "language": "python",
   "name": "python3"
  },
  "language_info": {
   "codemirror_mode": {
    "name": "ipython",
    "version": 3
   },
   "file_extension": ".py",
   "mimetype": "text/x-python",
   "name": "python",
   "nbconvert_exporter": "python",
   "pygments_lexer": "ipython3",
   "version": "3.7.7"
  }
 },
 "nbformat": 4,
 "nbformat_minor": 4
}
