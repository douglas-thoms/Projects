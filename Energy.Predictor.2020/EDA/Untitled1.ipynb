{
 "cells": [
  {
   "cell_type": "code",
   "execution_count": 149,
   "metadata": {},
   "outputs": [],
   "source": [
    "import numpy as np\n",
    "import pandas as pd"
   ]
  },
  {
   "cell_type": "code",
   "execution_count": 150,
   "metadata": {},
   "outputs": [
    {
     "name": "stdout",
     "output_type": "stream",
     "text": [
      "<class 'pandas.core.frame.DataFrame'>\n",
      "Int64Index: 5 entries, 0 to 4\n",
      "Data columns (total 6 columns):\n",
      " #   Column       Non-Null Count  Dtype  \n",
      "---  ------       --------------  -----  \n",
      " 0   site_id      5 non-null      int64  \n",
      " 1   building_id  5 non-null      int64  \n",
      " 2   primary_use  5 non-null      object \n",
      " 3   square_feet  5 non-null      int64  \n",
      " 4   year_built   5 non-null      float64\n",
      " 5   floor_count  0 non-null      float64\n",
      "dtypes: float64(2), int64(3), object(1)\n",
      "memory usage: 280.0+ bytes\n"
     ]
    }
   ],
   "source": [
    "bMetaData = pd.read_csv(\"../kaggle-data/building_metadata.csv\")\n",
    "bMetaData = bMetaData[bMetaData.building_id.isin([0,1,2,3,4])]\n",
    "bMetaData.info()"
   ]
  },
  {
   "cell_type": "code",
   "execution_count": 151,
   "metadata": {},
   "outputs": [
    {
     "name": "stdout",
     "output_type": "stream",
     "text": [
      "Pandas(Index=0, site_id=0, building_id=0, primary_use='Education', square_feet=7432, year_built=2008.0, floor_count=nan)\n",
      "Pandas(Index=1, site_id=0, building_id=1, primary_use='Education', square_feet=2720, year_built=2004.0, floor_count=nan)\n",
      "Pandas(Index=2, site_id=0, building_id=2, primary_use='Education', square_feet=5376, year_built=1991.0, floor_count=nan)\n",
      "Pandas(Index=3, site_id=0, building_id=3, primary_use='Education', square_feet=23685, year_built=2002.0, floor_count=nan)\n",
      "Pandas(Index=4, site_id=0, building_id=4, primary_use='Education', square_feet=116607, year_built=1975.0, floor_count=nan)\n"
     ]
    }
   ],
   "source": [
    "for row in bMetaData.itertuples():\n",
    "    print(row)"
   ]
  },
  {
   "cell_type": "code",
   "execution_count": 152,
   "metadata": {},
   "outputs": [
    {
     "name": "stdout",
     "output_type": "stream",
     "text": [
      "Education\n",
      "Education\n",
      "Education\n",
      "Education\n",
      "Education\n"
     ]
    }
   ],
   "source": [
    "for row in bMetaData.itertuples():\n",
    "    print(row[3])"
   ]
  },
  {
   "cell_type": "code",
   "execution_count": 153,
   "metadata": {},
   "outputs": [],
   "source": [
    "def remove_building_meter(meters_to_drop):\n",
    "    for row in meters_to_drop.itertuples():\n",
    "        print(row)"
   ]
  },
  {
   "cell_type": "code",
   "execution_count": 154,
   "metadata": {},
   "outputs": [
    {
     "name": "stdout",
     "output_type": "stream",
     "text": [
      "Pandas(Index=0, site_id=0, building_id=0, primary_use='Education', square_feet=7432, year_built=2008.0, floor_count=nan)\n",
      "Pandas(Index=1, site_id=0, building_id=1, primary_use='Education', square_feet=2720, year_built=2004.0, floor_count=nan)\n",
      "Pandas(Index=2, site_id=0, building_id=2, primary_use='Education', square_feet=5376, year_built=1991.0, floor_count=nan)\n",
      "Pandas(Index=3, site_id=0, building_id=3, primary_use='Education', square_feet=23685, year_built=2002.0, floor_count=nan)\n",
      "Pandas(Index=4, site_id=0, building_id=4, primary_use='Education', square_feet=116607, year_built=1975.0, floor_count=nan)\n"
     ]
    }
   ],
   "source": [
    "remove_building_meter(bMetaData)"
   ]
  },
  {
   "cell_type": "code",
   "execution_count": 155,
   "metadata": {},
   "outputs": [],
   "source": [
    "def remove_building_meter(file,bad_meters):\n",
    "    for row in bad_meters.itertuples():\n",
    "         print(row[2])\n",
    "         file.drop(file[(file['building_id'] == row[1]) & (file['primary_use'] == row[2])].index,inplace=True)"
   ]
  },
  {
   "cell_type": "code",
   "execution_count": 156,
   "metadata": {},
   "outputs": [
    {
     "name": "stdout",
     "output_type": "stream",
     "text": [
      "<class 'pandas.core.frame.DataFrame'>\n",
      "Int64Index: 3 entries, 0 to 2\n",
      "Data columns (total 2 columns):\n",
      " #   Column       Non-Null Count  Dtype \n",
      "---  ------       --------------  ----- \n",
      " 0   building_id  3 non-null      int64 \n",
      " 1   primary_use  3 non-null      object\n",
      "dtypes: int64(1), object(1)\n",
      "memory usage: 72.0+ bytes\n"
     ]
    }
   ],
   "source": [
    "test_remove = bMetaData[bMetaData.building_id.isin([0,1,2])][['building_id','primary_use']]\n",
    "test_remove.info()"
   ]
  },
  {
   "cell_type": "code",
   "execution_count": 157,
   "metadata": {},
   "outputs": [
    {
     "name": "stdout",
     "output_type": "stream",
     "text": [
      "Education\n",
      "Education\n",
      "Education\n"
     ]
    }
   ],
   "source": [
    "remove_building_meter(bMetaData,test_remove)"
   ]
  },
  {
   "cell_type": "code",
   "execution_count": 158,
   "metadata": {},
   "outputs": [
    {
     "data": {
      "text/html": [
       "<div>\n",
       "<style scoped>\n",
       "    .dataframe tbody tr th:only-of-type {\n",
       "        vertical-align: middle;\n",
       "    }\n",
       "\n",
       "    .dataframe tbody tr th {\n",
       "        vertical-align: top;\n",
       "    }\n",
       "\n",
       "    .dataframe thead th {\n",
       "        text-align: right;\n",
       "    }\n",
       "</style>\n",
       "<table border=\"1\" class=\"dataframe\">\n",
       "  <thead>\n",
       "    <tr style=\"text-align: right;\">\n",
       "      <th></th>\n",
       "      <th>site_id</th>\n",
       "      <th>building_id</th>\n",
       "      <th>primary_use</th>\n",
       "      <th>square_feet</th>\n",
       "      <th>year_built</th>\n",
       "      <th>floor_count</th>\n",
       "    </tr>\n",
       "  </thead>\n",
       "  <tbody>\n",
       "    <tr>\n",
       "      <th>3</th>\n",
       "      <td>0</td>\n",
       "      <td>3</td>\n",
       "      <td>Education</td>\n",
       "      <td>23685</td>\n",
       "      <td>2002.0</td>\n",
       "      <td>NaN</td>\n",
       "    </tr>\n",
       "    <tr>\n",
       "      <th>4</th>\n",
       "      <td>0</td>\n",
       "      <td>4</td>\n",
       "      <td>Education</td>\n",
       "      <td>116607</td>\n",
       "      <td>1975.0</td>\n",
       "      <td>NaN</td>\n",
       "    </tr>\n",
       "  </tbody>\n",
       "</table>\n",
       "</div>"
      ],
      "text/plain": [
       "   site_id  building_id primary_use  square_feet  year_built  floor_count\n",
       "3        0            3   Education        23685      2002.0          NaN\n",
       "4        0            4   Education       116607      1975.0          NaN"
      ]
     },
     "execution_count": 158,
     "metadata": {},
     "output_type": "execute_result"
    }
   ],
   "source": [
    "bMetaData"
   ]
  },
  {
   "cell_type": "code",
   "execution_count": null,
   "metadata": {},
   "outputs": [],
   "source": []
  },
  {
   "cell_type": "code",
   "execution_count": null,
   "metadata": {},
   "outputs": [],
   "source": []
  }
 ],
 "metadata": {
  "kernelspec": {
   "display_name": "Python 3",
   "language": "python",
   "name": "python3"
  },
  "language_info": {
   "codemirror_mode": {
    "name": "ipython",
    "version": 3
   },
   "file_extension": ".py",
   "mimetype": "text/x-python",
   "name": "python",
   "nbconvert_exporter": "python",
   "pygments_lexer": "ipython3",
   "version": "3.7.7"
  }
 },
 "nbformat": 4,
 "nbformat_minor": 4
}
