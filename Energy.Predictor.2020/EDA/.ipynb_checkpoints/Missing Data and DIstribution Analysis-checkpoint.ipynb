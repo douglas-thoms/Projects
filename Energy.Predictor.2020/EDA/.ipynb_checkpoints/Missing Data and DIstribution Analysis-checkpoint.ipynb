{
 "cells": [
  {
   "cell_type": "markdown",
   "metadata": {},
   "source": [
    "# Missing and Distribution Data Analysis"
   ]
  },
  {
   "cell_type": "markdown",
   "metadata": {},
   "source": [
    "## Observations\n",
    "* Summary tables of Nan \n",
    "* Are any values missing?\n",
    "* What do these observations with Nan look like?\n",
    "* Any column completely Nan?"
   ]
  },
  {
   "cell_type": "code",
   "execution_count": 10,
   "metadata": {},
   "outputs": [],
   "source": [
    "import pandas as pd"
   ]
  },
  {
   "cell_type": "code",
   "execution_count": 20,
   "metadata": {},
   "outputs": [],
   "source": [
    "combDF = pd.read_csv(\"../data/combDF.csv\")\n",
    "combDFSample = combDF.head()"
   ]
  },
  {
   "cell_type": "code",
   "execution_count": 21,
   "metadata": {},
   "outputs": [
    {
     "name": "stdout",
     "output_type": "stream",
     "text": [
      "<class 'pandas.core.frame.DataFrame'>\n",
      "RangeIndex: 20216100 entries, 0 to 20216099\n",
      "Data columns (total 16 columns):\n",
      " #   Column              Dtype  \n",
      "---  ------              -----  \n",
      " 0   site_id             int64  \n",
      " 1   building_id         int64  \n",
      " 2   primary_use         object \n",
      " 3   square_feet         int64  \n",
      " 4   year_built          float64\n",
      " 5   floor_count         float64\n",
      " 6   meter               int64  \n",
      " 7   timestamp           object \n",
      " 8   meter_reading       float64\n",
      " 9   air_temperature     float64\n",
      " 10  cloud_coverage      float64\n",
      " 11  dew_temperature     float64\n",
      " 12  precip_depth_1_hr   float64\n",
      " 13  sea_level_pressure  float64\n",
      " 14  wind_direction      float64\n",
      " 15  wind_speed          float64\n",
      "dtypes: float64(10), int64(4), object(2)\n",
      "memory usage: 2.4+ GB\n"
     ]
    }
   ],
   "source": [
    "combDF.info()"
   ]
  },
  {
   "cell_type": "markdown",
   "metadata": {},
   "source": [
    "# Percentage of Nan in each column\n",
    "* Year Built, Floor Count and Cloud Coverage all have a large amount of data missing\n",
    "* Percipitation has nearly 20% of data missing"
   ]
  },
  {
   "cell_type": "code",
   "execution_count": 18,
   "metadata": {},
   "outputs": [
    {
     "data": {
      "text/plain": [
       "site_id               0.000000\n",
       "building_id           0.000000\n",
       "primary_use           0.000000\n",
       "square_feet           0.000000\n",
       "year_built            0.599900\n",
       "floor_count           0.826528\n",
       "meter                 0.000000\n",
       "timestamp             0.000000\n",
       "meter_reading         0.000000\n",
       "air_temperature       0.004781\n",
       "cloud_coverage        0.436551\n",
       "dew_temperature       0.004953\n",
       "precip_depth_1_hr     0.185447\n",
       "sea_level_pressure    0.060925\n",
       "wind_direction        0.071678\n",
       "wind_speed            0.007107\n",
       "dtype: float64"
      ]
     },
     "execution_count": 18,
     "metadata": {},
     "output_type": "execute_result"
    }
   ],
   "source": [
    "#value_counts NaN\n",
    "combDF.isna().sum()/len(combDF.index)"
   ]
  },
  {
   "cell_type": "code",
   "execution_count": 19,
   "metadata": {},
   "outputs": [
    {
     "ename": "NameError",
     "evalue": "name 'combDf' is not defined",
     "output_type": "error",
     "traceback": [
      "\u001b[1;31m---------------------------------------------------------------------------\u001b[0m",
      "\u001b[1;31mNameError\u001b[0m                                 Traceback (most recent call last)",
      "\u001b[1;32m<ipython-input-19-eac95361c766>\u001b[0m in \u001b[0;36m<module>\u001b[1;34m\u001b[0m\n\u001b[1;32m----> 1\u001b[1;33m \u001b[0mcombDf\u001b[0m\u001b[1;33m.\u001b[0m\u001b[0mdescribe\u001b[0m\u001b[1;33m(\u001b[0m\u001b[1;33m)\u001b[0m\u001b[1;33m\u001b[0m\u001b[1;33m\u001b[0m\u001b[0m\n\u001b[0m",
      "\u001b[1;31mNameError\u001b[0m: name 'combDf' is not defined"
     ]
    }
   ],
   "source": [
    "combDf.describe()"
   ]
  },
  {
   "cell_type": "code",
   "execution_count": null,
   "metadata": {},
   "outputs": [],
   "source": []
  }
 ],
 "metadata": {
  "kernelspec": {
   "display_name": "Python 3",
   "language": "python",
   "name": "python3"
  },
  "language_info": {
   "codemirror_mode": {
    "name": "ipython",
    "version": 3
   },
   "file_extension": ".py",
   "mimetype": "text/x-python",
   "name": "python",
   "nbconvert_exporter": "python",
   "pygments_lexer": "ipython3",
   "version": "3.7.7"
  }
 },
 "nbformat": 4,
 "nbformat_minor": 4
}
