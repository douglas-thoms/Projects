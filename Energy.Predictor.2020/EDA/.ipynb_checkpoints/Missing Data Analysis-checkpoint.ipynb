{
 "cells": [
  {
   "cell_type": "markdown",
   "metadata": {},
   "source": [
    "# Missing Data Analysis"
   ]
  },
  {
   "cell_type": "markdown",
   "metadata": {},
   "source": [
    "## Observations\n",
    "* Summary tables of Nan \n",
    "* Are any values missing?\n",
    "* What do these observations with Nan look like?\n",
    "* Any column completely Nan?"
   ]
  },
  {
   "cell_type": "code",
   "execution_count": 8,
   "metadata": {},
   "outputs": [],
   "source": [
    "import pandas as pd"
   ]
  },
  {
   "cell_type": "code",
   "execution_count": 9,
   "metadata": {},
   "outputs": [],
   "source": [
    "combDF = pd.read_csv(\"../data/combDF.csv\")\n",
    "combDFSample = combDF.head()"
   ]
  },
  {
   "cell_type": "code",
   "execution_count": 13,
   "metadata": {},
   "outputs": [
    {
     "name": "stdout",
     "output_type": "stream",
     "text": [
      "<class 'pandas.core.frame.DataFrame'>\n",
      "RangeIndex: 20216100 entries, 0 to 20216099\n",
      "Data columns (total 16 columns):\n",
      " #   Column              Dtype  \n",
      "---  ------              -----  \n",
      " 0   site_id             int64  \n",
      " 1   building_id         int64  \n",
      " 2   primary_use         object \n",
      " 3   square_feet         int64  \n",
      " 4   year_built          float64\n",
      " 5   floor_count         float64\n",
      " 6   meter               int64  \n",
      " 7   timestamp           object \n",
      " 8   meter_reading       float64\n",
      " 9   air_temperature     float64\n",
      " 10  cloud_coverage      float64\n",
      " 11  dew_temperature     float64\n",
      " 12  precip_depth_1_hr   float64\n",
      " 13  sea_level_pressure  float64\n",
      " 14  wind_direction      float64\n",
      " 15  wind_speed          float64\n",
      "dtypes: float64(10), int64(4), object(2)\n",
      "memory usage: 2.4+ GB\n"
     ]
    }
   ],
   "source": [
    "combDF.info()"
   ]
  },
  {
   "cell_type": "code",
   "execution_count": 11,
   "metadata": {},
   "outputs": [
    {
     "data": {
      "text/plain": [
       "site_id                      0\n",
       "building_id                  0\n",
       "primary_use                  0\n",
       "square_feet                  0\n",
       "year_built            12127645\n",
       "floor_count           16709167\n",
       "meter                        0\n",
       "timestamp                    0\n",
       "meter_reading                0\n",
       "air_temperature          96658\n",
       "cloud_coverage         8825365\n",
       "dew_temperature         100140\n",
       "precip_depth_1_hr      3749023\n",
       "sea_level_pressure     1231669\n",
       "wind_direction         1449048\n",
       "wind_speed              143676\n",
       "dtype: int64"
      ]
     },
     "execution_count": 11,
     "metadata": {},
     "output_type": "execute_result"
    }
   ],
   "source": [
    "#value_counts NaN\n",
    "combDF.isna().sum()"
   ]
  },
  {
   "cell_type": "code",
   "execution_count": 20,
   "metadata": {},
   "outputs": [
    {
     "data": {
      "text/plain": [
       "NaN       0.599900\n",
       "1976.0    0.026271\n",
       "1964.0    0.012897\n",
       "1966.0    0.011281\n",
       "2006.0    0.009637\n",
       "            ...   \n",
       "2017.0    0.000434\n",
       "1916.0    0.000434\n",
       "1918.0    0.000434\n",
       "1944.0    0.000434\n",
       "1972.0    0.000421\n",
       "Name: year_built, Length: 117, dtype: float64"
      ]
     },
     "execution_count": 20,
     "metadata": {},
     "output_type": "execute_result"
    }
   ],
   "source": [
    "#use lambda or apply\n",
    "combDF['year_built'].value_counts(normalize=True, dropna=False)"
   ]
  },
  {
   "cell_type": "code",
   "execution_count": null,
   "metadata": {},
   "outputs": [],
   "source": []
  }
 ],
 "metadata": {
  "kernelspec": {
   "display_name": "Python 3",
   "language": "python",
   "name": "python3"
  },
  "language_info": {
   "codemirror_mode": {
    "name": "ipython",
    "version": 3
   },
   "file_extension": ".py",
   "mimetype": "text/x-python",
   "name": "python",
   "nbconvert_exporter": "python",
   "pygments_lexer": "ipython3",
   "version": "3.7.7"
  }
 },
 "nbformat": 4,
 "nbformat_minor": 4
}
