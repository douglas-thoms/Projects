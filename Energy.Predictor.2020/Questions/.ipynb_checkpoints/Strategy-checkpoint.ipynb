{
 "cells": [
  {
   "cell_type": "markdown",
   "metadata": {},
   "source": [
    "# Iteration 1\n",
    "## Data Cleaning\n",
    "- Remove complete sets of observation\n",
    "- Review with box plot, find min and max out of box\n",
    "- Fill in missing weather hours\n"
   ]
  },
  {
   "cell_type": "markdown",
   "metadata": {},
   "source": [
    "- next step, determine difference between max and rolling average to find spike per energy type, to create function to remove spikes\n",
    "- next step, set up algorithm removing meters if energy does not have right profile (e.g. chilled water in winter)"
   ]
  },
  {
   "cell_type": "markdown",
   "metadata": {},
   "source": [
    "# Iteration 2\n",
    "## Data Cleaning\n",
    "- Remove partial sets of observations\n",
    "- Imputing values\n",
    "- Removing Holidays\n",
    "- Analyzing gaps in energy data"
   ]
  },
  {
   "cell_type": "markdown",
   "metadata": {},
   "source": [
    "# Potential Strategies"
   ]
  },
  {
   "cell_type": "markdown",
   "metadata": {},
   "source": [
    "- remove chilled water readings that are complete zero\n",
    "- could remove any with a max value lower than X (chilled water)\n",
    "- remove spikes (especially steam) - something life if value 100x different than average remove"
   ]
  },
  {
   "cell_type": "code",
   "execution_count": null,
   "metadata": {},
   "outputs": [],
   "source": []
  }
 ],
 "metadata": {
  "kernelspec": {
   "display_name": "Python 3",
   "language": "python",
   "name": "python3"
  },
  "language_info": {
   "codemirror_mode": {
    "name": "ipython",
    "version": 3
   },
   "file_extension": ".py",
   "mimetype": "text/x-python",
   "name": "python",
   "nbconvert_exporter": "python",
   "pygments_lexer": "ipython3",
   "version": "3.7.7"
  }
 },
 "nbformat": 4,
 "nbformat_minor": 4
}
